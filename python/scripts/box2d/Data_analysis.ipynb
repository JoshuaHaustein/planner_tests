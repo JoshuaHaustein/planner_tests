{
 "cells": [
  {
   "cell_type": "markdown",
   "metadata": {},
   "source": [
    "First import libraries"
   ]
  },
  {
   "cell_type": "code",
   "execution_count": 108,
   "metadata": {},
   "outputs": [],
   "source": [
    "import pandas as pd\n",
    "import numpy as np\n",
    "import matplotlib.pyplot as plt\n",
    "import math"
   ]
  },
  {
   "cell_type": "code",
   "execution_count": 134,
   "metadata": {},
   "outputs": [
    {
     "name": "stdout",
     "output_type": "stream",
     "text": [
      "The data has 999 elements, here is the head:\n"
     ]
    },
    {
     "data": {
      "text/html": [
       "<div>\n",
       "<style>\n",
       "    .dataframe thead tr:only-child th {\n",
       "        text-align: right;\n",
       "    }\n",
       "\n",
       "    .dataframe thead th {\n",
       "        text-align: left;\n",
       "    }\n",
       "\n",
       "    .dataframe tbody tr th {\n",
       "        vertical-align: top;\n",
       "    }\n",
       "</style>\n",
       "<table border=\"1\" class=\"dataframe\">\n",
       "  <thead>\n",
       "    <tr style=\"text-align: right;\">\n",
       "      <th></th>\n",
       "      <th>#iterations</th>\n",
       "      <th>#propagations</th>\n",
       "      <th>#samples</th>\n",
       "      <th>#nn_queries</th>\n",
       "      <th>time</th>\n",
       "      <th>success</th>\n",
       "    </tr>\n",
       "  </thead>\n",
       "  <tbody>\n",
       "    <tr>\n",
       "      <th>0</th>\n",
       "      <td>484</td>\n",
       "      <td>780</td>\n",
       "      <td>484</td>\n",
       "      <td>0</td>\n",
       "      <td>1.752470</td>\n",
       "      <td>1</td>\n",
       "    </tr>\n",
       "    <tr>\n",
       "      <th>1</th>\n",
       "      <td>447</td>\n",
       "      <td>735</td>\n",
       "      <td>447</td>\n",
       "      <td>0</td>\n",
       "      <td>1.685430</td>\n",
       "      <td>1</td>\n",
       "    </tr>\n",
       "    <tr>\n",
       "      <th>2</th>\n",
       "      <td>348</td>\n",
       "      <td>545</td>\n",
       "      <td>348</td>\n",
       "      <td>0</td>\n",
       "      <td>1.221610</td>\n",
       "      <td>1</td>\n",
       "    </tr>\n",
       "    <tr>\n",
       "      <th>3</th>\n",
       "      <td>126</td>\n",
       "      <td>193</td>\n",
       "      <td>126</td>\n",
       "      <td>0</td>\n",
       "      <td>0.436519</td>\n",
       "      <td>1</td>\n",
       "    </tr>\n",
       "    <tr>\n",
       "      <th>4</th>\n",
       "      <td>485</td>\n",
       "      <td>763</td>\n",
       "      <td>485</td>\n",
       "      <td>0</td>\n",
       "      <td>1.758560</td>\n",
       "      <td>1</td>\n",
       "    </tr>\n",
       "  </tbody>\n",
       "</table>\n",
       "</div>"
      ],
      "text/plain": [
       "   #iterations  #propagations  #samples  #nn_queries      time  success\n",
       "0          484            780       484            0  1.752470        1\n",
       "1          447            735       447            0  1.685430        1\n",
       "2          348            545       348            0  1.221610        1\n",
       "3          126            193       126            0  0.436519        1\n",
       "4          485            763       485            0  1.758560        1"
      ]
     },
     "execution_count": 134,
     "metadata": {},
     "output_type": "execute_result"
    }
   ],
   "source": [
    "headers = ['#iterations', '#propagations', '#samples', '#nn_queries', 'time', 'success']\n",
    "raw_data = pd.read_csv('/tmp/test_output2.csv')\n",
    "raw_data.columns = headers\n",
    "print 'The data has %i elements, here is the head:' % len(raw_data)\n",
    "raw_data.head()\n"
   ]
  },
  {
   "cell_type": "markdown",
   "metadata": {},
   "source": [
    "Here are some stats:"
   ]
  },
  {
   "cell_type": "code",
   "execution_count": 135,
   "metadata": {},
   "outputs": [
    {
     "data": {
      "text/html": [
       "<div>\n",
       "<style>\n",
       "    .dataframe thead tr:only-child th {\n",
       "        text-align: right;\n",
       "    }\n",
       "\n",
       "    .dataframe thead th {\n",
       "        text-align: left;\n",
       "    }\n",
       "\n",
       "    .dataframe tbody tr th {\n",
       "        vertical-align: top;\n",
       "    }\n",
       "</style>\n",
       "<table border=\"1\" class=\"dataframe\">\n",
       "  <thead>\n",
       "    <tr style=\"text-align: right;\">\n",
       "      <th></th>\n",
       "      <th>#iterations</th>\n",
       "      <th>#propagations</th>\n",
       "      <th>#samples</th>\n",
       "      <th>#nn_queries</th>\n",
       "      <th>time</th>\n",
       "      <th>success</th>\n",
       "    </tr>\n",
       "  </thead>\n",
       "  <tbody>\n",
       "    <tr>\n",
       "      <th>count</th>\n",
       "      <td>999.000000</td>\n",
       "      <td>999.000000</td>\n",
       "      <td>999.000000</td>\n",
       "      <td>999.0</td>\n",
       "      <td>999.000000</td>\n",
       "      <td>999.0</td>\n",
       "    </tr>\n",
       "    <tr>\n",
       "      <th>mean</th>\n",
       "      <td>319.301301</td>\n",
       "      <td>509.941942</td>\n",
       "      <td>319.301301</td>\n",
       "      <td>0.0</td>\n",
       "      <td>1.199982</td>\n",
       "      <td>1.0</td>\n",
       "    </tr>\n",
       "    <tr>\n",
       "      <th>std</th>\n",
       "      <td>242.618763</td>\n",
       "      <td>388.560267</td>\n",
       "      <td>242.618763</td>\n",
       "      <td>0.0</td>\n",
       "      <td>0.914587</td>\n",
       "      <td>0.0</td>\n",
       "    </tr>\n",
       "    <tr>\n",
       "      <th>min</th>\n",
       "      <td>5.000000</td>\n",
       "      <td>7.000000</td>\n",
       "      <td>5.000000</td>\n",
       "      <td>0.0</td>\n",
       "      <td>0.017746</td>\n",
       "      <td>1.0</td>\n",
       "    </tr>\n",
       "    <tr>\n",
       "      <th>25%</th>\n",
       "      <td>136.500000</td>\n",
       "      <td>219.500000</td>\n",
       "      <td>136.500000</td>\n",
       "      <td>0.0</td>\n",
       "      <td>0.505117</td>\n",
       "      <td>1.0</td>\n",
       "    </tr>\n",
       "    <tr>\n",
       "      <th>50%</th>\n",
       "      <td>270.000000</td>\n",
       "      <td>429.000000</td>\n",
       "      <td>270.000000</td>\n",
       "      <td>0.0</td>\n",
       "      <td>1.000770</td>\n",
       "      <td>1.0</td>\n",
       "    </tr>\n",
       "    <tr>\n",
       "      <th>75%</th>\n",
       "      <td>447.000000</td>\n",
       "      <td>712.000000</td>\n",
       "      <td>447.000000</td>\n",
       "      <td>0.0</td>\n",
       "      <td>1.677530</td>\n",
       "      <td>1.0</td>\n",
       "    </tr>\n",
       "    <tr>\n",
       "      <th>max</th>\n",
       "      <td>1682.000000</td>\n",
       "      <td>2745.000000</td>\n",
       "      <td>1682.000000</td>\n",
       "      <td>0.0</td>\n",
       "      <td>6.306170</td>\n",
       "      <td>1.0</td>\n",
       "    </tr>\n",
       "  </tbody>\n",
       "</table>\n",
       "</div>"
      ],
      "text/plain": [
       "       #iterations  #propagations     #samples  #nn_queries        time  \\\n",
       "count   999.000000     999.000000   999.000000        999.0  999.000000   \n",
       "mean    319.301301     509.941942   319.301301          0.0    1.199982   \n",
       "std     242.618763     388.560267   242.618763          0.0    0.914587   \n",
       "min       5.000000       7.000000     5.000000          0.0    0.017746   \n",
       "25%     136.500000     219.500000   136.500000          0.0    0.505117   \n",
       "50%     270.000000     429.000000   270.000000          0.0    1.000770   \n",
       "75%     447.000000     712.000000   447.000000          0.0    1.677530   \n",
       "max    1682.000000    2745.000000  1682.000000          0.0    6.306170   \n",
       "\n",
       "       success  \n",
       "count    999.0  \n",
       "mean       1.0  \n",
       "std        0.0  \n",
       "min        1.0  \n",
       "25%        1.0  \n",
       "50%        1.0  \n",
       "75%        1.0  \n",
       "max        1.0  "
      ]
     },
     "execution_count": 135,
     "metadata": {},
     "output_type": "execute_result"
    }
   ],
   "source": [
    "raw_data.describe()"
   ]
  },
  {
   "cell_type": "markdown",
   "metadata": {},
   "source": [
    "## Runtime Plot"
   ]
  },
  {
   "cell_type": "code",
   "execution_count": 136,
   "metadata": {},
   "outputs": [],
   "source": [
    "def compute_wilson_p(p, n, z=1.96):\n",
    "    return 1.0 / (1.0 + z*z / n) * (p + z * z/(2.0*n))\n",
    "\n",
    "def compute_wilson_conf(p, n, z=1.96):\n",
    "    return 1.0 / (1.0 + z*z / n) * z * math.sqrt(p * (1.0 - p) / n + z*z/(4.0 * n * n))\n",
    "\n",
    "# compute data\n",
    "time_sorted_data = raw_data.sort_values(by='time')\n",
    "num_test_cases = len(time_sorted_data)\n",
    "runtime_plot_data = time_sorted_data.loc[:, ['time', 'success']]\n",
    "runtime_plot_data.loc[:, 'success'] = runtime_plot_data.loc[:, ['success']].apply(np.cumsum)\n",
    "runtime_plot_data.loc[:, 'success'] = runtime_plot_data.loc[:, ['success']].apply(lambda x: x / num_test_cases)\n",
    "runtime_plot_data.columns = ['time', 'success_rate']\n",
    "runtime_plot_data.loc[:, 'wilson_confidence'] = runtime_plot_data.apply(lambda row: compute_wilson_conf(row['success_rate'], num_test_cases), axis=1)\n",
    "runtime_plot_data.loc[:, 'success_rate'] = runtime_plot_data.apply(lambda row: compute_wilson_p(row['success_rate'], num_test_cases), axis=1)\n"
   ]
  },
  {
   "cell_type": "code",
   "execution_count": 137,
   "metadata": {},
   "outputs": [
    {
     "data": {
      "image/png": "[encoded data removed]",
      "text/plain": [
       "<matplotlib.figure.Figure at 0x7fb171605b50>"
      ]
     },
     "metadata": {},
     "output_type": "display_data"
    }
   ],
   "source": [
    "# plot data\n",
    "##### plot properties #####\n",
    "linewidth = 2.0\n",
    "line_color = (0, 0.1, 0.8, 1.0)\n",
    "shade_color = (0.1, 0.1, 0.1, 0.1)\n",
    "runtime_plot_data.plot(x='time', y='success_rate',\n",
    "                       color=line_color, linewidth=linewidth,\n",
    "                      legend=False)\n",
    "times = runtime_plot_data.loc[:, 'time'].values\n",
    "success_rates = runtime_plot_data.loc[:, 'success_rate'].values\n",
    "wilson_confs = runtime_plot_data.loc[:, 'wilson_confidence'].values\n",
    "plt.fill_between(times, success_rates - wilson_confs, success_rates + wilson_confs, facecolor=shade_color)\n",
    "plt.show()"
   ]
  },
  {
   "cell_type": "code",
   "execution_count": 101,
   "metadata": {},
   "outputs": [],
   "source": []
  }
 ],
 "metadata": {
  "kernelspec": {
   "display_name": "Python 2",
   "language": "python",
   "name": "python2"
  },
  "language_info": {
   "codemirror_mode": {
    "name": "ipython",
    "version": 2
   },
   "file_extension": ".py",
   "mimetype": "text/x-python",
   "name": "python",
   "nbconvert_exporter": "python",
   "pygments_lexer": "ipython2",
   "version": "2.7.13"
  }
 },
 "nbformat": 4,
 "nbformat_minor": 2
}
